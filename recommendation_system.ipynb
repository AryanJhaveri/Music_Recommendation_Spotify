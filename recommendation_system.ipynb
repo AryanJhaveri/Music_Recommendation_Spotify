{
 "cells": [
  {
   "cell_type": "code",
   "execution_count": 1,
   "metadata": {},
   "outputs": [],
   "source": [
    "import pandas as pd\n",
    "import numpy as np\n",
    "\n",
    "from sklearn.model_selection import train_test_split\n",
    "from sklearn.preprocessing import MinMaxScaler\n",
    "from datetime import datetime\n",
    "from sklearn.metrics.pairwise import cosine_similarity"
   ]
  },
  {
   "cell_type": "code",
   "execution_count": 2,
   "metadata": {},
   "outputs": [],
   "source": [
    "df = pd.read_csv(\"D:\\\\2_Extra\\\\Data Science\\\\Machine Learning Projects\\\\Music_Recommendation_Spotify\\\\playlist_data.csv\")"
   ]
  },
  {
   "cell_type": "code",
   "execution_count": 3,
   "metadata": {},
   "outputs": [
    {
     "data": {
      "text/html": [
       "<div>\n",
       "<style scoped>\n",
       "    .dataframe tbody tr th:only-of-type {\n",
       "        vertical-align: middle;\n",
       "    }\n",
       "\n",
       "    .dataframe tbody tr th {\n",
       "        vertical-align: top;\n",
       "    }\n",
       "\n",
       "    .dataframe thead th {\n",
       "        text-align: right;\n",
       "    }\n",
       "</style>\n",
       "<table border=\"1\" class=\"dataframe\">\n",
       "  <thead>\n",
       "    <tr style=\"text-align: right;\">\n",
       "      <th></th>\n",
       "      <th>Track Name</th>\n",
       "      <th>Artists</th>\n",
       "      <th>Album Name</th>\n",
       "      <th>Album ID</th>\n",
       "      <th>Track ID</th>\n",
       "      <th>Popularity</th>\n",
       "      <th>Release Date</th>\n",
       "      <th>Duration (ms)</th>\n",
       "      <th>Explicit</th>\n",
       "      <th>External URLs</th>\n",
       "      <th>...</th>\n",
       "      <th>Energy</th>\n",
       "      <th>Key</th>\n",
       "      <th>Loudness</th>\n",
       "      <th>Mode</th>\n",
       "      <th>Speechiness</th>\n",
       "      <th>Acousticness</th>\n",
       "      <th>Instrumentalness</th>\n",
       "      <th>Liveness</th>\n",
       "      <th>Valence</th>\n",
       "      <th>Tempo</th>\n",
       "    </tr>\n",
       "  </thead>\n",
       "  <tbody>\n",
       "    <tr>\n",
       "      <th>0</th>\n",
       "      <td>Roobaroo</td>\n",
       "      <td>A.R. Rahman, Naresh Iyer</td>\n",
       "      <td>Rang De Basanti (Original Motion Picture Sound...</td>\n",
       "      <td>0NKNDn80mhKn4Xi6nHrsqQ</td>\n",
       "      <td>3vqJY3pVELLIxqXXyI08yr</td>\n",
       "      <td>54</td>\n",
       "      <td>2005-12-04</td>\n",
       "      <td>282973</td>\n",
       "      <td>False</td>\n",
       "      <td>https://open.spotify.com/track/3vqJY3pVELLIxqX...</td>\n",
       "      <td>...</td>\n",
       "      <td>0.582</td>\n",
       "      <td>9</td>\n",
       "      <td>-8.891</td>\n",
       "      <td>1</td>\n",
       "      <td>0.0277</td>\n",
       "      <td>0.661</td>\n",
       "      <td>0.000006</td>\n",
       "      <td>0.0854</td>\n",
       "      <td>0.538</td>\n",
       "      <td>120.991</td>\n",
       "    </tr>\n",
       "    <tr>\n",
       "      <th>1</th>\n",
       "      <td>Abhi Mujh Mein Kahin</td>\n",
       "      <td>Ajay-Atul, Sonu Nigam</td>\n",
       "      <td>Agneepath (Original Motion Picture Soundtrack)</td>\n",
       "      <td>3EXIPmWRsSM1sXol5g4t7j</td>\n",
       "      <td>73y649QhnXdcm6fRdvfraO</td>\n",
       "      <td>61</td>\n",
       "      <td>2011-12-16</td>\n",
       "      <td>364787</td>\n",
       "      <td>False</td>\n",
       "      <td>https://open.spotify.com/track/73y649QhnXdcm6f...</td>\n",
       "      <td>...</td>\n",
       "      <td>0.387</td>\n",
       "      <td>2</td>\n",
       "      <td>-9.483</td>\n",
       "      <td>1</td>\n",
       "      <td>0.0332</td>\n",
       "      <td>0.755</td>\n",
       "      <td>0.000039</td>\n",
       "      <td>0.1130</td>\n",
       "      <td>0.420</td>\n",
       "      <td>129.959</td>\n",
       "    </tr>\n",
       "    <tr>\n",
       "      <th>2</th>\n",
       "      <td>Kabira</td>\n",
       "      <td>Pritam, Tochi Raina, Rekha Bhardwaj</td>\n",
       "      <td>Yeh Jawaani Hai Deewani</td>\n",
       "      <td>2Lxoc72vRTGdQfMvj7Ovi1</td>\n",
       "      <td>4bD9z9qa4qg9BhryvYWB7c</td>\n",
       "      <td>70</td>\n",
       "      <td>2013-03-30</td>\n",
       "      <td>223460</td>\n",
       "      <td>False</td>\n",
       "      <td>https://open.spotify.com/track/4bD9z9qa4qg9Bhr...</td>\n",
       "      <td>...</td>\n",
       "      <td>0.555</td>\n",
       "      <td>2</td>\n",
       "      <td>-6.861</td>\n",
       "      <td>1</td>\n",
       "      <td>0.0271</td>\n",
       "      <td>0.481</td>\n",
       "      <td>0.000000</td>\n",
       "      <td>0.1920</td>\n",
       "      <td>0.191</td>\n",
       "      <td>84.027</td>\n",
       "    </tr>\n",
       "    <tr>\n",
       "      <th>3</th>\n",
       "      <td>Kal Ho Naa Ho</td>\n",
       "      <td>Shankar-Ehsaan-Loy, Sonu Nigam</td>\n",
       "      <td>Kal Ho Naa Ho (Original Motion Picture Soundtr...</td>\n",
       "      <td>6H71erprmvRxnWs3XqC8uE</td>\n",
       "      <td>251PNRmJU9KcUnFQAB5t6I</td>\n",
       "      <td>62</td>\n",
       "      <td>2003-09-20</td>\n",
       "      <td>321240</td>\n",
       "      <td>False</td>\n",
       "      <td>https://open.spotify.com/track/251PNRmJU9KcUnF...</td>\n",
       "      <td>...</td>\n",
       "      <td>0.529</td>\n",
       "      <td>0</td>\n",
       "      <td>-8.402</td>\n",
       "      <td>1</td>\n",
       "      <td>0.0352</td>\n",
       "      <td>0.334</td>\n",
       "      <td>0.000144</td>\n",
       "      <td>0.0780</td>\n",
       "      <td>0.295</td>\n",
       "      <td>81.989</td>\n",
       "    </tr>\n",
       "    <tr>\n",
       "      <th>4</th>\n",
       "      <td>Agar Ho Tum (From \"Mr. And Mrs. Mahi\")</td>\n",
       "      <td>Tanishk Bagchi, Kausar Munir, Jubin Nautiyal</td>\n",
       "      <td>Agar Ho Tum (From \"Mr. And Mrs. Mahi\")</td>\n",
       "      <td>08PRzEfce7mwprUTvMmfh2</td>\n",
       "      <td>0a17mIL7XTvYqe9mxuPd3y</td>\n",
       "      <td>68</td>\n",
       "      <td>2024-05-20</td>\n",
       "      <td>253224</td>\n",
       "      <td>False</td>\n",
       "      <td>https://open.spotify.com/track/0a17mIL7XTvYqe9...</td>\n",
       "      <td>...</td>\n",
       "      <td>0.499</td>\n",
       "      <td>2</td>\n",
       "      <td>-10.061</td>\n",
       "      <td>1</td>\n",
       "      <td>0.0415</td>\n",
       "      <td>0.582</td>\n",
       "      <td>0.000000</td>\n",
       "      <td>0.1010</td>\n",
       "      <td>0.591</td>\n",
       "      <td>151.848</td>\n",
       "    </tr>\n",
       "  </tbody>\n",
       "</table>\n",
       "<p>5 rows × 21 columns</p>\n",
       "</div>"
      ],
      "text/plain": [
       "                               Track Name  \\\n",
       "0                                Roobaroo   \n",
       "1                    Abhi Mujh Mein Kahin   \n",
       "2                                  Kabira   \n",
       "3                           Kal Ho Naa Ho   \n",
       "4  Agar Ho Tum (From \"Mr. And Mrs. Mahi\")   \n",
       "\n",
       "                                        Artists  \\\n",
       "0                      A.R. Rahman, Naresh Iyer   \n",
       "1                         Ajay-Atul, Sonu Nigam   \n",
       "2           Pritam, Tochi Raina, Rekha Bhardwaj   \n",
       "3                Shankar-Ehsaan-Loy, Sonu Nigam   \n",
       "4  Tanishk Bagchi, Kausar Munir, Jubin Nautiyal   \n",
       "\n",
       "                                          Album Name                Album ID  \\\n",
       "0  Rang De Basanti (Original Motion Picture Sound...  0NKNDn80mhKn4Xi6nHrsqQ   \n",
       "1     Agneepath (Original Motion Picture Soundtrack)  3EXIPmWRsSM1sXol5g4t7j   \n",
       "2                            Yeh Jawaani Hai Deewani  2Lxoc72vRTGdQfMvj7Ovi1   \n",
       "3  Kal Ho Naa Ho (Original Motion Picture Soundtr...  6H71erprmvRxnWs3XqC8uE   \n",
       "4             Agar Ho Tum (From \"Mr. And Mrs. Mahi\")  08PRzEfce7mwprUTvMmfh2   \n",
       "\n",
       "                 Track ID  Popularity Release Date  Duration (ms)  Explicit  \\\n",
       "0  3vqJY3pVELLIxqXXyI08yr          54   2005-12-04         282973     False   \n",
       "1  73y649QhnXdcm6fRdvfraO          61   2011-12-16         364787     False   \n",
       "2  4bD9z9qa4qg9BhryvYWB7c          70   2013-03-30         223460     False   \n",
       "3  251PNRmJU9KcUnFQAB5t6I          62   2003-09-20         321240     False   \n",
       "4  0a17mIL7XTvYqe9mxuPd3y          68   2024-05-20         253224     False   \n",
       "\n",
       "                                       External URLs  ...  Energy  Key  \\\n",
       "0  https://open.spotify.com/track/3vqJY3pVELLIxqX...  ...   0.582    9   \n",
       "1  https://open.spotify.com/track/73y649QhnXdcm6f...  ...   0.387    2   \n",
       "2  https://open.spotify.com/track/4bD9z9qa4qg9Bhr...  ...   0.555    2   \n",
       "3  https://open.spotify.com/track/251PNRmJU9KcUnF...  ...   0.529    0   \n",
       "4  https://open.spotify.com/track/0a17mIL7XTvYqe9...  ...   0.499    2   \n",
       "\n",
       "   Loudness  Mode  Speechiness  Acousticness  Instrumentalness  Liveness  \\\n",
       "0    -8.891     1       0.0277         0.661          0.000006    0.0854   \n",
       "1    -9.483     1       0.0332         0.755          0.000039    0.1130   \n",
       "2    -6.861     1       0.0271         0.481          0.000000    0.1920   \n",
       "3    -8.402     1       0.0352         0.334          0.000144    0.0780   \n",
       "4   -10.061     1       0.0415         0.582          0.000000    0.1010   \n",
       "\n",
       "   Valence    Tempo  \n",
       "0    0.538  120.991  \n",
       "1    0.420  129.959  \n",
       "2    0.191   84.027  \n",
       "3    0.295   81.989  \n",
       "4    0.591  151.848  \n",
       "\n",
       "[5 rows x 21 columns]"
      ]
     },
     "execution_count": 3,
     "metadata": {},
     "output_type": "execute_result"
    }
   ],
   "source": [
    "df.head()"
   ]
  },
  {
   "cell_type": "code",
   "execution_count": 5,
   "metadata": {},
   "outputs": [
    {
     "name": "stdout",
     "output_type": "stream",
     "text": [
      "<class 'pandas.core.frame.DataFrame'>\n",
      "RangeIndex: 448 entries, 0 to 447\n",
      "Data columns (total 21 columns):\n",
      " #   Column            Non-Null Count  Dtype  \n",
      "---  ------            --------------  -----  \n",
      " 0   Track Name        430 non-null    object \n",
      " 1   Artists           430 non-null    object \n",
      " 2   Album Name        430 non-null    object \n",
      " 3   Album ID          448 non-null    object \n",
      " 4   Track ID          448 non-null    object \n",
      " 5   Popularity        448 non-null    int64  \n",
      " 6   Release Date      448 non-null    object \n",
      " 7   Duration (ms)     448 non-null    int64  \n",
      " 8   Explicit          448 non-null    bool   \n",
      " 9   External URLs     448 non-null    object \n",
      " 10  Danceability      448 non-null    float64\n",
      " 11  Energy            448 non-null    float64\n",
      " 12  Key               448 non-null    int64  \n",
      " 13  Loudness          448 non-null    float64\n",
      " 14  Mode              448 non-null    int64  \n",
      " 15  Speechiness       448 non-null    float64\n",
      " 16  Acousticness      448 non-null    float64\n",
      " 17  Instrumentalness  448 non-null    float64\n",
      " 18  Liveness          448 non-null    float64\n",
      " 19  Valence           448 non-null    float64\n",
      " 20  Tempo             448 non-null    float64\n",
      "dtypes: bool(1), float64(9), int64(4), object(7)\n",
      "memory usage: 70.6+ KB\n"
     ]
    }
   ],
   "source": [
    "df.info()"
   ]
  },
  {
   "cell_type": "code",
   "execution_count": 5,
   "metadata": {},
   "outputs": [
    {
     "data": {
      "text/plain": [
       "0"
      ]
     },
     "execution_count": 5,
     "metadata": {},
     "output_type": "execute_result"
    }
   ],
   "source": [
    "df['Track Name'].isna().sum()"
   ]
  },
  {
   "cell_type": "code",
   "execution_count": 6,
   "metadata": {},
   "outputs": [
    {
     "data": {
      "text/plain": [
       "(448, 21)"
      ]
     },
     "execution_count": 6,
     "metadata": {},
     "output_type": "execute_result"
    }
   ],
   "source": [
    "df.shape"
   ]
  },
  {
   "cell_type": "markdown",
   "metadata": {},
   "source": [
    "# Calculate weighted popularity scores based on release date"
   ]
  },
  {
   "cell_type": "code",
   "execution_count": 7,
   "metadata": {},
   "outputs": [],
   "source": [
    "def calculate_weighted_popularity(release_date):\n",
    "    # Convert the release date to datetime object\n",
    "    release_date = datetime.strptime(release_date, '%Y-%m-%d')\n",
    "\n",
    "    # Calculate the time span between release date and today's date\n",
    "    time_span = datetime.now() - release_date\n",
    "\n",
    "   \n",
    "    # Calculate the weighted popularity score based on time span (e.g., more recent releases have higher weight)\n",
    "    weight = 1 / (time_span.days +1)\n",
    "    return weight "
   ]
  },
  {
   "cell_type": "code",
   "execution_count": 8,
   "metadata": {},
   "outputs": [],
   "source": [
    "scaler = MinMaxScaler()\n",
    "music_features = df[['Danceability', 'Energy', 'Key', \n",
    "                           'Loudness', 'Mode', 'Speechiness', 'Acousticness',\n",
    "                           'Instrumentalness', 'Liveness', 'Valence', 'Tempo']].values\n",
    "music_features_scaled = scaler.fit_transform(music_features)"
   ]
  },
  {
   "cell_type": "code",
   "execution_count": 9,
   "metadata": {},
   "outputs": [],
   "source": [
    "# a function to get content-based recommendations based on music features\n",
    "def content_based_recommendations(input_song_name, num_recommendations=5):\n",
    "    if input_song_name not in df['Track Name'].values:\n",
    "        print(f\"'{input_song_name}' not found in the dataset. Please enter a valid song name.\")\n",
    "        return\n",
    "\n",
    "    # Get the index of the input song in the music DataFrame\n",
    "    input_song_index = df[df['Track Name'] == input_song_name].index[0]\n",
    "\n",
    "    # Calculate the similarity scores based on music features (cosine similarity)\n",
    "    similarity_scores = cosine_similarity([music_features_scaled[input_song_index]], music_features_scaled)\n",
    "\n",
    "    # Get the indices of the most similar songs\n",
    "    similar_song_indices = similarity_scores.argsort()[0][::-1][1:num_recommendations + 1]\n",
    "\n",
    "    # Get the names of the most similar songs based on content-based filtering\n",
    "    content_based_recommendations = df.iloc[similar_song_indices][['Track Name','Artists','Album Name','Release Date','Popularity']]\n",
    "    \n",
    "    return content_based_recommendations"
   ]
  },
  {
   "cell_type": "code",
   "execution_count": 10,
   "metadata": {},
   "outputs": [],
   "source": [
    "# a function to get hybrid recommendations based on weighted popularity\n",
    "def hybrid_recommendations(input_song_name, num_recommendations=5, alpha=0.5):\n",
    "    if input_song_name not in df['Track Name'].values:\n",
    "        print(f\"'{input_song_name}' not found in the dataset. Please enter a valid song name.\")\n",
    "        return\n",
    "\n",
    "    # Get content-based recommendations\n",
    "    content_based_rec = content_based_recommendations(input_song_name, num_recommendations)\n",
    "\n",
    "    # Get the popularity score of the input song\n",
    "    popularity_score = df.loc[df['Track Name'] == input_song_name, 'Popularity'].values[0]\n",
    "\n",
    "    # Calculate the weighted popularity score\n",
    "    weighted_popularity_score = popularity_score * calculate_weighted_popularity(df.loc[df['Track Name'] == input_song_name, 'Release Date'].values[0])\n",
    "\n",
    "    # Combine content-based and popularity-based recommendations based on weighted popularity\n",
    "    hybrid_recommendations = content_based_rec\n",
    "    hybrid_recommendations = hybrid_recommendations.append({\n",
    "        'Track Name': input_song_name,\n",
    "        'Artists': df.loc[df['Track Name'] == input_song_name, 'Artists'].values[0],\n",
    "        'Album Name': df.loc[df['Track Name'] == input_song_name, 'Album Name'].values[0],\n",
    "        'Release Date': df.loc[df['Track Name'] == input_song_name, 'Release Date'].values[0],\n",
    "        'Popularity': weighted_popularity_score\n",
    "    }, ignore_index=True)\n",
    "\n",
    "    # Sort the hybrid recommendations based on weighted popularity score\n",
    "    hybrid_recommendations = hybrid_recommendations.sort_values(by='Popularity', ascending=False)\n",
    "\n",
    "    # Remove the input song from the recommendations\n",
    "    hybrid_recommendations = hybrid_recommendations[hybrid_recommendations['Track Name'] != input_song_name]\n",
    "\n",
    "\n",
    "    return hybrid_recommendations"
   ]
  },
  {
   "cell_type": "code",
   "execution_count": 17,
   "metadata": {},
   "outputs": [
    {
     "name": "stdout",
     "output_type": "stream",
     "text": [
      "Hybrid recommended songs for 'Kya Mujhe Pyar Hai':\n",
      "          Track Name                                      Artists  \\\n",
      "4     Tu Hi Haqeeqat     Pritam, Javed Ali, Irshan Ashraf, Shadab   \n",
      "0           Sanam Re                        Mithoon, Arijit Singh   \n",
      "2  Mere Rashke Qamar  Nusrat Fateh Ali Khan, Rahat Fateh Ali Khan   \n",
      "3           Touch Me            Pritam, KK, Alisha Chinai, Sameer   \n",
      "1       Ishq Ki Gali          Rahat Fateh Ali Khan, Jayesh Gandhi   \n",
      "\n",
      "                                      Album Name Release Date  Popularity  \n",
      "4  Tum Mile (Original Motion Picture Soundtrack)   2009-09-08        62.0  \n",
      "0                                       Sanam Re   2016-01-04        59.0  \n",
      "2                                      Baadshaho   2017-08-19        58.0  \n",
      "3                                        Dhoom:2   2006-10-19        47.0  \n",
      "1                                Milenge Milenge   2010-06-11        33.0  \n"
     ]
    },
    {
     "name": "stderr",
     "output_type": "stream",
     "text": [
      "C:\\Users\\ARYAN\\AppData\\Local\\Temp\\ipykernel_10960\\3127659472.py:18: FutureWarning: The frame.append method is deprecated and will be removed from pandas in a future version. Use pandas.concat instead.\n",
      "  hybrid_recommendations = hybrid_recommendations.append({\n"
     ]
    }
   ],
   "source": [
    "input_song_name = \"Kya Mujhe Pyar Hai\"\n",
    "recommendations = hybrid_recommendations(input_song_name, num_recommendations=5)\n",
    "print(f\"Hybrid recommended songs for '{input_song_name}':\")\n",
    "print(recommendations)"
   ]
  },
  {
   "cell_type": "code",
   "execution_count": null,
   "metadata": {},
   "outputs": [],
   "source": []
  }
 ],
 "metadata": {
  "kernelspec": {
   "display_name": "base",
   "language": "python",
   "name": "python3"
  },
  "language_info": {
   "codemirror_mode": {
    "name": "ipython",
    "version": 3
   },
   "file_extension": ".py",
   "mimetype": "text/x-python",
   "name": "python",
   "nbconvert_exporter": "python",
   "pygments_lexer": "ipython3",
   "version": "3.11.4"
  }
 },
 "nbformat": 4,
 "nbformat_minor": 2
}
